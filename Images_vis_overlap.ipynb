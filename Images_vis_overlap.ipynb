{
 "cells": [
  {
   "cell_type": "code",
   "execution_count": null,
   "metadata": {},
   "outputs": [],
   "source": [
    "import numpy as np\n",
    "import os\n",
    "\n",
    "from skimage import io\n",
    "from matplotlib import pyplot as plt"
   ]
  },
  {
   "cell_type": "code",
   "execution_count": null,
   "metadata": {
    "scrolled": true
   },
   "outputs": [],
   "source": [
    "images_path = os.path.join(os.getcwd(), \"Images_close_to_gt\")\n",
    "image_names = os.listdir(images_path)\n",
    "\n",
    "for i in range(0, len(image_names), 2):   \n",
    "    # Get Names of Images\n",
    "    image_name1 = image_names[i]\n",
    "    image_name2 = image_names[i+1]\n",
    "    \n",
    "    im1 = io.imread(os.path.join(images_path, image_name1))\n",
    "    im1 = im1/ 255\n",
    "    im2 = io.imread(os.path.join(images_path, image_name2))\n",
    "    im2 = im2 / 255\n",
    "    \n",
    "    fig, ax = plt.subplots(1,3,figsize=(15,5))\n",
    "    ax[0].imshow(im1)\n",
    "    ax[1].imshow(im2)\n",
    "    ax[2].imshow(im1)\n",
    "    ax[2].imshow(im2, alpha=0.5)\n",
    "    plt.show()"
   ]
  },
  {
   "cell_type": "code",
   "execution_count": null,
   "metadata": {},
   "outputs": [],
   "source": []
  }
 ],
 "metadata": {
  "kernelspec": {
   "display_name": "Python 3",
   "language": "python",
   "name": "python3"
  },
  "language_info": {
   "codemirror_mode": {
    "name": "ipython",
    "version": 3
   },
   "file_extension": ".py",
   "mimetype": "text/x-python",
   "name": "python",
   "nbconvert_exporter": "python",
   "pygments_lexer": "ipython3",
   "version": "3.8.5"
  }
 },
 "nbformat": 4,
 "nbformat_minor": 4
}
