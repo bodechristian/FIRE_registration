{
 "cells": [
  {
   "cell_type": "code",
   "execution_count": 14,
   "metadata": {},
   "outputs": [],
   "source": [
    "import os\n",
    "import numpy as np\n",
    "from skimage.transform import resize\n",
    "from skimage import io, color\n",
    "from pathlib import Path"
   ]
  },
  {
   "cell_type": "code",
   "execution_count": 15,
   "metadata": {},
   "outputs": [],
   "source": [
    "size_ = 512\n",
    "PATH = \"Images_close_to_gt\""
   ]
  },
  {
   "cell_type": "code",
   "execution_count": 16,
   "metadata": {},
   "outputs": [],
   "source": [
    "path = os.path.join(os.getcwd(), PATH)\n",
    "Path(path+\"_downsized_\"+str(size_)).mkdir(parents=True, exist_ok=True)\n",
    "for file in os.listdir(path):\n",
    "    image = io.imread(os.path.join(path, file))\n",
    "    image = color.rgb2gray(image)\n",
    "    image = resize(image, (size_, size_))\n",
    "    image *= 256\n",
    "    image = image.astype(\"uint8\")\n",
    "    io.imsave(os.path.join(os.getcwd(), path+\"_downsized_\"+str(size_), file), image)"
   ]
  },
  {
   "cell_type": "code",
   "execution_count": null,
   "metadata": {},
   "outputs": [],
   "source": []
  },
  {
   "cell_type": "code",
   "execution_count": null,
   "metadata": {},
   "outputs": [],
   "source": []
  }
 ],
 "metadata": {
  "kernelspec": {
   "display_name": "Python 3",
   "language": "python",
   "name": "python3"
  },
  "language_info": {
   "codemirror_mode": {
    "name": "ipython",
    "version": 3
   },
   "file_extension": ".py",
   "mimetype": "text/x-python",
   "name": "python",
   "nbconvert_exporter": "python",
   "pygments_lexer": "ipython3",
   "version": "3.8.5"
  }
 },
 "nbformat": 4,
 "nbformat_minor": 4
}
