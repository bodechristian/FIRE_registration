{
 "cells": [
  {
   "cell_type": "code",
   "execution_count": null,
   "metadata": {},
   "outputs": [],
   "source": [
    "import os, sys\n",
    "\n",
    "import numpy as np\n",
    "import pandas as pd\n",
    "import tensorflow as tf\n",
    "import matplotlib.pyplot as plt\n",
    "assert tf.__version__.startswith('2.'), 'assumes Tensorflow 2.0+'\n",
    "\n",
    "import voxelmorph as vxm\n",
    "import neurite as ne\n",
    "\n",
    "from skimage import io\n",
    "from skimage.color import rgb2gray"
   ]
  },
  {
   "cell_type": "code",
   "execution_count": null,
   "metadata": {},
   "outputs": [],
   "source": [
    "# values\n",
    "orig_size = 2912\n",
    "img_size = 512"
   ]
  },
  {
   "cell_type": "code",
   "execution_count": null,
   "metadata": {
    "scrolled": true
   },
   "outputs": [],
   "source": [
    "def generator(init_data, batch_size=32):\n",
    "    \"\"\"\n",
    "    init_data: list of pairs of images (moving, fixed)\n",
    "    \n",
    "    inputs:  moving [bs, H, W, 1], fixed image [bs, H, W, 1]\n",
    "    outputs: moved image [bs, H, W, 1], zero-gradient [bs, H, W, 2]\n",
    "    \"\"\"\n",
    "    while True:\n",
    "        moving_imgs = []\n",
    "        fixed_imgs = []\n",
    "        \n",
    "        # get batch-size number of random integers\n",
    "        idx = np.random.randint(0, len(init_data), size=batch_size)\n",
    "        \n",
    "        # take batch-size number of random images from given pairs of images\n",
    "        for id_ in idx:\n",
    "            moving_imgs.append(init_data[id_][0])\n",
    "            fixed_imgs.append(init_data[id_][1])\n",
    "        moving_imgs = np.asarray(moving_imgs)\n",
    "        fixed_imgs = np.asarray(fixed_imgs)\n",
    "        \n",
    "        # change dimensions of images from [bs, H, W] to [bs, H, W, 1]\n",
    "        moving_imgs = moving_imgs[:, :, :, np.newaxis]\n",
    "        fixed_imgs = fixed_imgs[:, :, :, np.newaxis]\n",
    "        \n",
    "        # set inputs and dummy outputs\n",
    "        inputs = [moving_imgs, fixed_imgs]\n",
    "        outputs = [fixed_imgs, np.zeros([batch_size, img_size, img_size, 2])]\n",
    "        \n",
    "        yield (inputs, outputs)"
   ]
  },
  {
   "cell_type": "code",
   "execution_count": null,
   "metadata": {},
   "outputs": [],
   "source": [
    "# Get Image pairs\n",
    "\n",
    "# Get list of names of images in respective pre-downsized folder\n",
    "images_path = os.path.join(os.getcwd(), \"Images_downsized_\"+str(img_size))\n",
    "\n",
    "# For each image: normalize + add to list\n",
    "images = []\n",
    "for image_name in os.listdir(images_path):\n",
    "    #im = rgb2gray(io.imread(os.path.join(images_path, image_name)))\n",
    "    im = io.imread(os.path.join(images_path, image_name))\n",
    "    im = im / 255\n",
    "    images.append(im)\n",
    "\n",
    "original_images = list(zip(images[::2], images[1::2]))\n",
    "    \n",
    "    \n",
    "# Do the same for the other folders (data augmentated)    \n",
    "images_path = os.path.join(os.getcwd(), \"Images_close_to_gt_downsized_\"+str(img_size))\n",
    "for image_name in os.listdir(images_path):\n",
    "    #im = rgb2gray(io.imread(os.path.join(images_path, image_name)))\n",
    "    im = io.imread(os.path.join(images_path, image_name))\n",
    "    im = im / 255\n",
    "    images.append(im)\n",
    "      \n",
    "images_path = os.path.join(os.getcwd(), \"Images_rotated_downsized_\"+str(img_size))\n",
    "for image_name in os.listdir(images_path):\n",
    "    #im = rgb2gray(io.imread(os.path.join(images_path, image_name)))\n",
    "    im = io.imread(os.path.join(images_path, image_name))\n",
    "    im = im / 255\n",
    "    images.append(im)\n",
    "    \n",
    "# add every 2 images together in a tuple as a pair\n",
    "# This assumes that pairs are sorted in the folder to come right after each other\n",
    "image_pairs = list(zip(images[::2], images[1::2]))"
   ]
  },
  {
   "cell_type": "code",
   "execution_count": null,
   "metadata": {},
   "outputs": [],
   "source": [
    "# Do the same for the other folders (data augmentated)    \n",
    "images = []\n",
    "images_path = os.path.join(os.getcwd(), \"Images_close_to_gt_downsized_\"+str(img_size))\n",
    "for image_name in os.listdir(images_path):\n",
    "    #im = rgb2gray(io.imread(os.path.join(images_path, image_name)))\n",
    "    im = io.imread(os.path.join(images_path, image_name))\n",
    "    im = im / 255\n",
    "    images.append(im)\n",
    "image_pairs = list(zip(images[::2], images[1::2]))"
   ]
  },
  {
   "cell_type": "code",
   "execution_count": null,
   "metadata": {},
   "outputs": [],
   "source": [
    "batch_size_=16\n",
    "gen = generator(image_pairs, batch_size=batch_size_)"
   ]
  },
  {
   "cell_type": "code",
   "execution_count": null,
   "metadata": {
    "scrolled": true
   },
   "outputs": [],
   "source": [
    "# configure unet features \n",
    "nb_features = [\n",
    "    [32, 32, 32, 32],         # encoder features\n",
    "    [32, 32, 32, 32, 32, 16]  # decoder features\n",
    "]\n",
    "# build model\n",
    "vxm_model = vxm.networks.VxmDense([img_size, img_size], nb_features, int_steps=0)\n",
    "\n",
    "# losses\n",
    "losses = [vxm.losses.MSE().loss, vxm.losses.Grad('l2').loss]\n",
    "\n",
    "# balance the two losses by a hyper-parameter\n",
    "#try [1, 0.01]\n",
    "loss_weights = [1, 0.05]\n",
    "\n",
    "# Compile the model and fit it to training data\n",
    "#try optimizer='Adam'\n",
    "vxm_model.compile(optimizer=tf.keras.optimizers.Adam(lr=1e-4), loss=losses, loss_weights=loss_weights)\n",
    "\n",
    "hist = vxm_model.fit(gen, epochs=200, steps_per_epoch=15, verbose=2)"
   ]
  },
  {
   "cell_type": "code",
   "execution_count": null,
   "metadata": {},
   "outputs": [],
   "source": [
    "# Plot the losses\n",
    "fig, ax = plt.subplots(1,3)\n",
    "ax[0].plot(hist.epoch, hist.history[\"loss\"], '.-')\n",
    "ax[0].title.set_text(\"loss\")\n",
    "ax[1].plot(hist.epoch, hist.history[\"transformer_loss\"], '.-')\n",
    "ax[1].title.set_text(\"transformer_loss\")\n",
    "ax[2].plot(hist.epoch, hist.history[\"flow_loss\"], '.-')\n",
    "ax[2].title.set_text(\"flow_loss\")\n",
    "plt.ylabel('loss')\n",
    "plt.xlabel('epoch')\n",
    "plt.tight_layout()\n",
    "plt.show()"
   ]
  },
  {
   "cell_type": "code",
   "execution_count": null,
   "metadata": {
    "scrolled": false
   },
   "outputs": [],
   "source": [
    "# having a look at random data\n",
    "\n",
    "# Get random data\n",
    "gen_test = generator(image_pairs, batch_size = 1)\n",
    "test_input, _ = next(gen_test)\n",
    "\n",
    "test_pred = vxm_model.predict(test_input)\n",
    "\n",
    "# visualize\n",
    "images = [img[0, :, :, 0] for img in test_input + test_pred] \n",
    "titles = ['moving', 'fixed', 'moved', 'flow']\n",
    "ne.plot.slices(images, titles=titles, cmaps=['gray'], do_colorbars=True)\n",
    "\n",
    "ne.plot.flow([test_pred[1].squeeze()], width=8)"
   ]
  },
  {
   "cell_type": "code",
   "execution_count": null,
   "metadata": {
    "scrolled": false
   },
   "outputs": [],
   "source": [
    "# EVALUATION\n",
    "\n",
    "# Path to ground truths\n",
    "gt_path = os.path.join(os.getcwd(), \"Ground Truth\")\n",
    "gt_names = os.listdir(gt_path)\n",
    "\n",
    "all_mean_rel_errors = []\n",
    "all_abs_errors_dfs = {}\n",
    "# For every image pair in the original images\n",
    "for i, (img1, img2) in enumerate(original_images):\n",
    "    gt = gt_names[i]\n",
    "    \n",
    "    # Get the imagepair with the given ID\n",
    "    moving_imgs = np.asarray(img1)\n",
    "    fixed_imgs = np.asarray(img2)\n",
    "\n",
    "    moving_imgs = moving_imgs[np.newaxis, :, :, np.newaxis]\n",
    "    fixed_imgs = fixed_imgs[np.newaxis, :, :, np.newaxis]\n",
    "\n",
    "    # Predict that image pair\n",
    "    pred = vxm_model.predict([moving_imgs, fixed_imgs])\n",
    "\n",
    "    # visualize\n",
    "    images_ = [img[0, :, :, 0] for img in [moving_imgs, fixed_imgs] + pred] \n",
    "    titles = ['moving', 'fixed', 'moved', 'flow']\n",
    "    ne.plot.slices(images_, titles=titles, cmaps=['gray'], do_colorbars=True)\n",
    "    \n",
    "    abs_errors_dics = []\n",
    "    \n",
    "    # Open the relating ground truth file\n",
    "    with open(os.path.join(gt_path, gt), \"r\") as f:\n",
    "        lines = f.readlines()\n",
    "        relative_errors = []\n",
    "        for line in lines:\n",
    "            # [:-1] removes \\n at the end\n",
    "            vals = line[:-1].split(\" \")\n",
    "            # scale ground truth values to lower image size\n",
    "            vals_adjusted = [float(val) * (img_size / orig_size) for val in vals]\n",
    "\n",
    "            # create points \n",
    "            shift = pred[1].squeeze()[round(vals_adjusted[0])][round(vals_adjusted[1])]\n",
    "            origin = np.asarray([vals_adjusted[0], vals_adjusted[1]])\n",
    "            goal = np.asarray([vals_adjusted[2], vals_adjusted[3]])       \n",
    "            predict = np.add(origin, shift)\n",
    "\n",
    "            # calculate errors (lineare distance, l2-norm)\n",
    "            error_label = np.linalg.norm(origin-goal)\n",
    "            error_pred = np.linalg.norm(predict-goal)\n",
    "            \n",
    "            # Relative error to gold distance\n",
    "            # >1 : Moved image is further away from fixed image than initial moving Image\n",
    "            # =1 : Same Distance away (no change)\n",
    "            # <1 : Closer\n",
    "            # The closer to 0 the better\n",
    "            relative_errors.append(error_pred/error_label)\n",
    "            \n",
    "            abs_errors_dics.append({\"Original Error\": error_label, \"New Error\": error_pred})\n",
    "    \n",
    "    # Calculate mean error for each pair\n",
    "    mean_rel_error = np.mean(np.asarray(relative_errors))\n",
    "    all_mean_rel_errors.append(mean_rel_error)\n",
    "    print(gt, \"Mean relative error:\", mean_rel_error)\n",
    "    df = pd.DataFrame(abs_errors_dics)\n",
    "    all_abs_errors_dfs[gt] = df\n",
    "    display(df)\n",
    "    \n",
    "    \n",
    "# Show mean errors for each pair, and the average mean error over all pairs\n",
    "print(all_mean_rel_errors)\n",
    "print(np.mean(np.asarray(all_mean_rel_errors)))"
   ]
  },
  {
   "cell_type": "code",
   "execution_count": null,
   "metadata": {},
   "outputs": [],
   "source": [
    "#vxm_model.save(os.path.join(os.getcwd(), \"models\"))"
   ]
  },
  {
   "cell_type": "code",
   "execution_count": null,
   "metadata": {},
   "outputs": [],
   "source": []
  }
 ],
 "metadata": {
  "kernelspec": {
   "display_name": "Python 3",
   "language": "python",
   "name": "python3"
  },
  "language_info": {
   "codemirror_mode": {
    "name": "ipython",
    "version": 3
   },
   "file_extension": ".py",
   "mimetype": "text/x-python",
   "name": "python",
   "nbconvert_exporter": "python",
   "pygments_lexer": "ipython3",
   "version": "3.8.5"
  }
 },
 "nbformat": 4,
 "nbformat_minor": 4
}
